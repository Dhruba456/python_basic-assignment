{
 "cells": [
  {
   "cell_type": "code",
   "execution_count": null,
   "id": "ed6cb4b7-5906-4c2c-9df8-3f811665191b",
   "metadata": {},
   "outputs": [],
   "source": [
    "1. Write a Python Program to Find the Factorial of a Number?"
   ]
  },
  {
   "cell_type": "code",
   "execution_count": 18,
   "id": "fdfcab58-1c32-4ae9-938d-bd5c10b9521a",
   "metadata": {},
   "outputs": [
    {
     "name": "stdin",
     "output_type": "stream",
     "text": [
      "Enter a number:  5\n"
     ]
    },
    {
     "name": "stdout",
     "output_type": "stream",
     "text": [
      "The factorial of this number is: 120\n"
     ]
    }
   ],
   "source": [
    "a = int(input('Enter a number: '))\n",
    "for i in range(1,a):\n",
    "    a=a*(a-(a-i))\n",
    "print(f'The factorial of this number is: {a}')"
   ]
  },
  {
   "cell_type": "code",
   "execution_count": null,
   "id": "1dc8203c-cdac-419c-91c5-fed5c6ec9262",
   "metadata": {
    "jp-MarkdownHeadingCollapsed": true,
    "tags": []
   },
   "outputs": [],
   "source": [
    "2. Write a Python Program to Display the multiplication Table?"
   ]
  },
  {
   "cell_type": "code",
   "execution_count": 29,
   "id": "b570e6c1-5814-492c-9880-5700677230e7",
   "metadata": {},
   "outputs": [
    {
     "name": "stdin",
     "output_type": "stream",
     "text": [
      "Enter the number:  11\n"
     ]
    },
    {
     "name": "stdout",
     "output_type": "stream",
     "text": [
      "The multiplication Table of 11 is \n",
      "11 x 1 = 11\n",
      "11 x 2 = 22\n",
      "11 x 3 = 33\n",
      "11 x 4 = 44\n",
      "11 x 5 = 55\n",
      "11 x 6 = 66\n",
      "11 x 7 = 77\n",
      "11 x 8 = 88\n",
      "11 x 9 = 99\n",
      "11 x 10 = 110\n"
     ]
    }
   ],
   "source": [
    "n = int(input('Enter the number: '))\n",
    "print(f'The multiplication Table of {n} is ')\n",
    "for i in range(1,11):\n",
    "    print(f'{n} x {i} = {n*i}')"
   ]
  },
  {
   "cell_type": "code",
   "execution_count": null,
   "id": "66f0962f-4a9b-4625-90eb-b6105ae0bea8",
   "metadata": {},
   "outputs": [],
   "source": [
    "3. Write a Python Program to Print the Fibonacci sequence?"
   ]
  },
  {
   "cell_type": "code",
   "execution_count": 43,
   "id": "02e5f74e-6d69-4f8f-9edd-f24d565f1e10",
   "metadata": {},
   "outputs": [
    {
     "name": "stdin",
     "output_type": "stream",
     "text": [
      "Enter the number:  6\n"
     ]
    },
    {
     "name": "stdout",
     "output_type": "stream",
     "text": [
      "0\n",
      "1\n",
      "1\n",
      "2\n",
      "3\n",
      "5\n"
     ]
    }
   ],
   "source": [
    "n = int(input('Enter the number: '))\n",
    "a, b=0, 1\n",
    "for i in range(n):\n",
    "    print(a)\n",
    "    a, b = b,a+b"
   ]
  },
  {
   "cell_type": "code",
   "execution_count": null,
   "id": "dcd6c2af-7929-469d-b47d-65a11862f259",
   "metadata": {},
   "outputs": [],
   "source": [
    "4. Write a Python Program to Check Armstrong Number?"
   ]
  },
  {
   "cell_type": "code",
   "execution_count": 14,
   "id": "7a44737c-cb51-4f3e-a761-0cd31ef64e04",
   "metadata": {},
   "outputs": [
    {
     "name": "stdin",
     "output_type": "stream",
     "text": [
      "Enter the number:  153\n"
     ]
    },
    {
     "name": "stdout",
     "output_type": "stream",
     "text": [
      "153 is armstrong number\n"
     ]
    }
   ],
   "source": [
    "n = int(input('Enter the number: '))\n",
    "sum = 0\n",
    "order = len(str(n))\n",
    "copy_n=n\n",
    "\n",
    "while(n>0):\n",
    "    digit = n%10\n",
    "    sum += digit ** order\n",
    "    n = n // 10\n",
    "if(sum == copy_n):\n",
    "    print(f'{copy_n} is armstrong number')\n",
    "else:\n",
    "    print(f'{copy_n} is not a armstrong number')"
   ]
  },
  {
   "cell_type": "code",
   "execution_count": null,
   "id": "c9b0d880-a230-4cc8-b229-fe23633467f6",
   "metadata": {},
   "outputs": [],
   "source": [
    "5. Write a Python Program to Find Armstrong Number in an Interval?"
   ]
  },
  {
   "cell_type": "code",
   "execution_count": 18,
   "id": "314dddae-3f34-4cd0-b729-ed6917104384",
   "metadata": {},
   "outputs": [
    {
     "name": "stdin",
     "output_type": "stream",
     "text": [
      "Enter lower range:  100\n",
      "Enter upper range:  1000\n"
     ]
    },
    {
     "name": "stdout",
     "output_type": "stream",
     "text": [
      "153\n",
      "370\n",
      "371\n",
      "407\n"
     ]
    }
   ],
   "source": [
    "lower = int(input(\"Enter lower range: \"))\n",
    "upper = int(input(\"Enter upper range: \"))\n",
    " \n",
    "for n in range(lower,upper + 1):\n",
    "   sum = 0\n",
    "   copy_n = n\n",
    "   while n > 0:\n",
    "       digit = n % 10\n",
    "       sum += digit ** 3\n",
    "       n = n //10\n",
    " \n",
    "   if copy_n == sum:\n",
    "       print(copy_n)"
   ]
  },
  {
   "cell_type": "code",
   "execution_count": null,
   "id": "42b49fb9-a01a-474c-97b3-086d4dd55791",
   "metadata": {},
   "outputs": [],
   "source": [
    "6. Write a Python Program to Find the Sum of Natural Numbers?"
   ]
  },
  {
   "cell_type": "code",
   "execution_count": null,
   "id": "68e2199e-84c1-49b7-b512-7fd65a5f98ed",
   "metadata": {},
   "outputs": [],
   "source": [
    "n = int(input(\"Enter the number: \"))\n",
    "\n",
    "sum = 0\n",
    "\n",
    "for i in range(1, n + 1):\n",
    "    sum = i + sum\n",
    "    \n",
    "print(f'The sum is {sum}')\n"
   ]
  },
  {
   "cell_type": "code",
   "execution_count": null,
   "id": "887ee996-f015-422b-b0dc-0b11ed1d68ec",
   "metadata": {},
   "outputs": [],
   "source": []
  }
 ],
 "metadata": {
  "kernelspec": {
   "display_name": "Python 3 (ipykernel)",
   "language": "python",
   "name": "python3"
  },
  "language_info": {
   "codemirror_mode": {
    "name": "ipython",
    "version": 3
   },
   "file_extension": ".py",
   "mimetype": "text/x-python",
   "name": "python",
   "nbconvert_exporter": "python",
   "pygments_lexer": "ipython3",
   "version": "3.10.6"
  }
 },
 "nbformat": 4,
 "nbformat_minor": 5
}
