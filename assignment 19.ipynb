{
 "cells": [
  {
   "cell_type": "raw",
   "id": "f27745ba-efbf-4e6b-8d77-4d5deea680d5",
   "metadata": {},
   "source": [
    "1. Make a class called Thing with no contents and print it. Then, create an object called example from this class and also print it. Are the printed values the same or different?"
   ]
  },
  {
   "cell_type": "code",
   "execution_count": 2,
   "id": "5c8e94c0-2387-45b1-81db-32ce38365cd7",
   "metadata": {},
   "outputs": [
    {
     "name": "stdout",
     "output_type": "stream",
     "text": [
      "<class '__main__.Thing'>\n",
      "<__main__.Thing object at 0x7fbd33d17910>\n"
     ]
    }
   ],
   "source": [
    "class Thing:\n",
    "    pass\n",
    "\n",
    "example = Thing()\n",
    "\n",
    "print(Thing)\n",
    "print(example)\n"
   ]
  },
  {
   "cell_type": "raw",
   "id": "00cfc5d9-3f11-45c3-a421-7e0291913b15",
   "metadata": {},
   "source": [
    "The printed values will be different. When we print Thing, we are printing the class definition itself, which will show the name of the class and some metadata about it. When we print example, we are printing an instance of the class, which will show the memory location where the object is stored."
   ]
  },
  {
   "cell_type": "raw",
   "id": "d82cb2fd-0431-4e0f-ae35-c680056b0842",
   "metadata": {},
   "source": [
    "2. Create a new class called Thing2 and add the value 'abc' to the letters class attribute. Letters should be printed."
   ]
  },
  {
   "cell_type": "code",
   "execution_count": 4,
   "id": "f0a3d0ff-0b11-47e2-adac-f28804e3af1b",
   "metadata": {},
   "outputs": [
    {
     "name": "stdout",
     "output_type": "stream",
     "text": [
      "The value of letters in Thing2 is: abc\n"
     ]
    }
   ],
   "source": [
    "class Thing2:\n",
    "    letters = 'abc'\n",
    "\n",
    "print(f\"The value of letters in Thing2 is: {Thing2.letters}\")\n"
   ]
  },
  {
   "cell_type": "raw",
   "id": "b9c06e9a-67f2-4a50-b2a0-07b657abbab4",
   "metadata": {},
   "source": [
    "3. Make yet another class called, of course, Thing3. This time, assign the value 'xyz' to an instance (object) attribute called letters. Print letters. Do you need to make an object from the class to do this?"
   ]
  },
  {
   "cell_type": "code",
   "execution_count": 5,
   "id": "2a049dff-063e-4b67-9593-b68817680224",
   "metadata": {},
   "outputs": [
    {
     "name": "stdout",
     "output_type": "stream",
     "text": [
      "xyz\n"
     ]
    }
   ],
   "source": [
    "class Thing3:\n",
    "    def __init__(self):\n",
    "        self.letters = 'xyz'\n",
    "\n",
    "print(Thing3().letters)\n"
   ]
  },
  {
   "cell_type": "raw",
   "id": "5f859762-7d0e-4fc3-a45b-b6dd6628ae12",
   "metadata": {},
   "source": [
    "To print the value of letters, I need to create an object of the Thing3 class and access its letters attribute using dot notation. In this case, we create an object of the Thing3 class by calling the class constructor Thing3() and immediately accessing its letters attribute using the dot notation .letters. The output will be 'xyz'."
   ]
  },
  {
   "cell_type": "raw",
   "id": "801d0c39-ac05-4b20-87a9-27745153bdf1",
   "metadata": {},
   "source": [
    "4. Create an Element class with the instance attributes name, symbol, and number. Create a class object with the values 'Hydrogen,' 'H,' and 1."
   ]
  },
  {
   "cell_type": "code",
   "execution_count": 6,
   "id": "f7c1d043-bc30-4576-b324-e710cc68326b",
   "metadata": {},
   "outputs": [],
   "source": [
    "class Element:\n",
    "    def __init__(self, name, symbol, number):\n",
    "        self.name = name\n",
    "        self.symbol = symbol\n",
    "        self.number = number\n"
   ]
  },
  {
   "cell_type": "code",
   "execution_count": 7,
   "id": "71b1e2ed-f2f1-416d-8f29-e2df25a1b636",
   "metadata": {},
   "outputs": [],
   "source": [
    "hydrogen = Element('Hydrogen', 'H', 1)"
   ]
  },
  {
   "cell_type": "code",
   "execution_count": 9,
   "id": "25b2f561-9db9-451c-b213-90acac592084",
   "metadata": {},
   "outputs": [
    {
     "name": "stdout",
     "output_type": "stream",
     "text": [
      "Hydrogen\n",
      "H\n",
      "1\n"
     ]
    }
   ],
   "source": [
    "print(hydrogen.name)   \n",
    "print(hydrogen.symbol) \n",
    "print(hydrogen.number) "
   ]
  },
  {
   "cell_type": "raw",
   "id": "49f3c8fb-bd0e-47eb-8bc1-6d180b87b5c8",
   "metadata": {},
   "source": [
    "5. Make a dictionary with these keys and values: 'name': 'Hydrogen', 'symbol': 'H', 'number': 1. Then, create an object called hydrogen from class Element using this dictionary."
   ]
  },
  {
   "cell_type": "code",
   "execution_count": 10,
   "id": "cf6af5c6-d16f-414e-8a43-7fd413277e6e",
   "metadata": {},
   "outputs": [],
   "source": [
    "element_dict = {'name': 'Hydrogen', 'symbol': 'H', 'number': 1}"
   ]
  },
  {
   "cell_type": "code",
   "execution_count": 11,
   "id": "a46ad66a-0b96-41cd-a55d-ed559f40b842",
   "metadata": {},
   "outputs": [],
   "source": [
    "class Element:\n",
    "    def __init__(self, name, symbol, number):\n",
    "        self.name = name\n",
    "        self.symbol = symbol\n",
    "        self.number = number\n",
    "\n",
    "hydrogen = Element(element_dict['name'], element_dict['symbol'], element_dict['number'])\n"
   ]
  },
  {
   "cell_type": "code",
   "execution_count": 12,
   "id": "580df8d2-3bd5-4756-8c2a-7a988b00206c",
   "metadata": {},
   "outputs": [
    {
     "name": "stdout",
     "output_type": "stream",
     "text": [
      "Hydrogen\n",
      "H\n",
      "1\n"
     ]
    }
   ],
   "source": [
    "print(hydrogen.name)    \n",
    "print(hydrogen.symbol)  \n",
    "print(hydrogen.number)  "
   ]
  },
  {
   "cell_type": "raw",
   "id": "4e621867-a84a-4239-a57b-564efe598e2b",
   "metadata": {},
   "source": [
    "6. For the Element class, define a method called dump() that prints the values of the object’s attributes (name, symbol, and number). Create the hydrogen object from this new definition and use dump() to print its attributes."
   ]
  },
  {
   "cell_type": "code",
   "execution_count": 13,
   "id": "f918e9c0-8f75-452a-9390-07d4a5138cc5",
   "metadata": {},
   "outputs": [],
   "source": [
    "class Element:\n",
    "    def __init__(self, name, symbol, number):\n",
    "        self.name = name\n",
    "        self.symbol = symbol\n",
    "        self.number = number\n",
    "    \n",
    "    def dump(self):\n",
    "        print(f\"Name: {self.name}, Symbol: {self.symbol}, Number: {self.number}\")\n"
   ]
  },
  {
   "cell_type": "code",
   "execution_count": 14,
   "id": "e04993d3-bf19-4eb9-ac0d-6b4da706593a",
   "metadata": {},
   "outputs": [
    {
     "name": "stdout",
     "output_type": "stream",
     "text": [
      "Name: Hydrogen, Symbol: H, Number: 1\n"
     ]
    }
   ],
   "source": [
    "hydrogen = Element('Hydrogen', 'H', 1)\n",
    "hydrogen.dump()\n"
   ]
  },
  {
   "cell_type": "raw",
   "id": "d4f825cf-aea0-448a-92ef-ea7097425ede",
   "metadata": {},
   "source": [
    "7. Call print(hydrogen). In the definition of Element, change the name of method dump to __str__, create a new hydrogen object, and call print(hydrogen) again."
   ]
  },
  {
   "cell_type": "code",
   "execution_count": 15,
   "id": "3cee8e4a-037c-430e-a6ec-5f3aed355373",
   "metadata": {},
   "outputs": [
    {
     "name": "stdout",
     "output_type": "stream",
     "text": [
      "Hydrogen (H) with atomic number 1\n"
     ]
    }
   ],
   "source": [
    "class Element:\n",
    "    def __init__(self, name, symbol, number):\n",
    "        self.name = name\n",
    "        self.symbol = symbol\n",
    "        self.number = number\n",
    "    \n",
    "    def __str__(self):\n",
    "        return f\"{self.name} ({self.symbol}) with atomic number {self.number}\"\n",
    "    \n",
    "\n",
    "hydrogen = Element(\"Hydrogen\", \"H\", 1)\n",
    "print(hydrogen)\n"
   ]
  },
  {
   "cell_type": "raw",
   "id": "f69a21c1-b4a0-4848-a014-97c79ef3c41e",
   "metadata": {},
   "source": [
    "8. Modify Element to make the attributes name, symbol, and number private. Define a getter property for each to return its value."
   ]
  },
  {
   "cell_type": "code",
   "execution_count": 16,
   "id": "c592d995-753d-440e-8441-7388fb61c2a3",
   "metadata": {},
   "outputs": [],
   "source": [
    "class Element:\n",
    "    def __init__(self, name, symbol, number):\n",
    "        self._name = name\n",
    "        self._symbol = symbol\n",
    "        self._number = number\n",
    "\n",
    "    @property\n",
    "    def name(self):\n",
    "        return self._name\n",
    "\n",
    "    @property\n",
    "    def symbol(self):\n",
    "        return self._symbol\n",
    "\n",
    "    @property\n",
    "    def number(self):\n",
    "        return self._number\n"
   ]
  },
  {
   "cell_type": "code",
   "execution_count": 18,
   "id": "74d96ab5-5e1d-4d0b-9d6a-e60f02c89e68",
   "metadata": {},
   "outputs": [
    {
     "name": "stdout",
     "output_type": "stream",
     "text": [
      "Carbon\n",
      "C\n",
      "6\n"
     ]
    }
   ],
   "source": [
    "element = Element('Carbon', 'C', 6)\n",
    "print(element.name)    \n",
    "print(element.symbol)  \n",
    "print(element.number)  \n"
   ]
  },
  {
   "cell_type": "raw",
   "id": "24655004-00b2-4107-8bbf-ee3822e1fa23",
   "metadata": {},
   "source": [
    "9. Define three classes: Bear, Rabbit, and Octothorpe. For each, define only one method: eats(). This should return 'berries' (Bear), 'clover' (Rabbit), or 'campers' (Octothorpe). Create one object from each and print what it eats."
   ]
  },
  {
   "cell_type": "code",
   "execution_count": 19,
   "id": "f4aad1a8-5bb3-412b-8b55-5ab34836c94e",
   "metadata": {},
   "outputs": [],
   "source": [
    "class Bear:\n",
    "    def eats(self):\n",
    "        return 'berries'\n",
    "\n",
    "class Rabbit:\n",
    "    def eats(self):\n",
    "        return 'clover'\n",
    "\n",
    "class Octothorpe:\n",
    "    def eats(self):\n",
    "        return 'campers'\n"
   ]
  },
  {
   "cell_type": "code",
   "execution_count": 20,
   "id": "b9b29a1c-6952-497e-9241-3ec496fec4ea",
   "metadata": {},
   "outputs": [
    {
     "name": "stdout",
     "output_type": "stream",
     "text": [
      "The bear eats berries\n",
      "The rabbit eats clover\n",
      "The octothorpe eats campers\n"
     ]
    }
   ],
   "source": [
    "bear = Bear()\n",
    "print(\"The bear eats\", bear.eats())\n",
    "\n",
    "rabbit = Rabbit()\n",
    "print(\"The rabbit eats\", rabbit.eats())\n",
    "\n",
    "octothorpe = Octothorpe()\n",
    "print(\"The octothorpe eats\", octothorpe.eats())\n"
   ]
  },
  {
   "cell_type": "raw",
   "id": "72d887c7-21c8-4347-a2f9-b73c982092b7",
   "metadata": {},
   "source": [
    "10. Define these classes: Laser, Claw, and SmartPhone. Each has only one method: does(). This returns 'disintegrate' (Laser), 'crush' (Claw), or 'ring' (SmartPhone). Then, define the class Robot that has one instance (object) of each of these. Define a does() method for the Robot that prints what its component objects do."
   ]
  },
  {
   "cell_type": "code",
   "execution_count": 21,
   "id": "e63c2296-caea-4efa-adf1-182bd7f2bf28",
   "metadata": {},
   "outputs": [
    {
     "name": "stdout",
     "output_type": "stream",
     "text": [
      "The robot's laser will disintegrate\n",
      "The robot's claw will crush\n",
      "The robot's smartphone will ring\n"
     ]
    }
   ],
   "source": [
    "class Laser:\n",
    "    def does(self):\n",
    "        return 'disintegrate'\n",
    "    \n",
    "class Claw:\n",
    "    def does(self):\n",
    "        return 'crush'\n",
    "    \n",
    "class SmartPhone:\n",
    "    def does(self):\n",
    "        return 'ring'\n",
    "\n",
    "class Robot:\n",
    "    def __init__(self):\n",
    "        self.laser = Laser()\n",
    "        self.claw = Claw()\n",
    "        self.smartphone = SmartPhone()\n",
    "        \n",
    "    def does(self):\n",
    "        print(\"The robot's laser will \" + self.laser.does())\n",
    "        print(\"The robot's claw will \" + self.claw.does())\n",
    "        print(\"The robot's smartphone will \" + self.smartphone.does())\n",
    "\n",
    "# Example usage:\n",
    "my_robot = Robot()\n",
    "my_robot.does()\n"
   ]
  },
  {
   "cell_type": "code",
   "execution_count": null,
   "id": "a874813f-388c-404e-afa0-a22c2c378c8c",
   "metadata": {},
   "outputs": [],
   "source": []
  }
 ],
 "metadata": {
  "kernelspec": {
   "display_name": "Python 3 (ipykernel)",
   "language": "python",
   "name": "python3"
  },
  "language_info": {
   "codemirror_mode": {
    "name": "ipython",
    "version": 3
   },
   "file_extension": ".py",
   "mimetype": "text/x-python",
   "name": "python",
   "nbconvert_exporter": "python",
   "pygments_lexer": "ipython3",
   "version": "3.10.6"
  }
 },
 "nbformat": 4,
 "nbformat_minor": 5
}
