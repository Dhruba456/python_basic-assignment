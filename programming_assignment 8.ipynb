{
 "cells": [
  {
   "cell_type": "code",
   "execution_count": null,
   "id": "c6ce1970-e004-42a8-834f-39781088c8ed",
   "metadata": {},
   "outputs": [],
   "source": [
    "1. Write a Python Program to Add Two Matrices?"
   ]
  },
  {
   "cell_type": "code",
   "execution_count": 7,
   "id": "683d57e6-a3f4-45cb-a10f-6a483edf321d",
   "metadata": {},
   "outputs": [
    {
     "name": "stdout",
     "output_type": "stream",
     "text": [
      "[4, 7, 9]\n",
      "[70, 12, 11]\n",
      "[10, 13, 18]\n"
     ]
    }
   ],
   "source": [
    "A = [[1,2,3], \n",
    "     [4,5,6] ,\n",
    "     [7,8,9]]\n",
    "B = [[3,5,6], \n",
    "     [66,7,5],\n",
    "     [3,5,9]]\n",
    "result = [[0,0,0],\n",
    "          [0,0,0],\n",
    "          [0,0,0]]\n",
    " \n",
    "for i in range(len(A)):  \n",
    "    for j in range(len(A[0])):\n",
    "        result[i][j] = A[i][j] + B[i][j]\n",
    " \n",
    "for r in result:\n",
    "    print(r)"
   ]
  },
  {
   "cell_type": "code",
   "execution_count": null,
   "id": "e2bc4b60-0f1e-43dd-bbbd-3fd27687aab7",
   "metadata": {},
   "outputs": [],
   "source": [
    "2. Write a Python Program to Multiply Two Matrices?"
   ]
  },
  {
   "cell_type": "code",
   "execution_count": 9,
   "id": "666bbcaf-7ec9-43ef-bdfa-052bf8523515",
   "metadata": {},
   "outputs": [
    {
     "name": "stdout",
     "output_type": "stream",
     "text": [
      "[104, 256, 28, 65]\n",
      "[80, 200, 40, 50]\n",
      "[89, 170, 61, 41]\n"
     ]
    }
   ],
   "source": [
    "X = [[10,7,3],\n",
    "    [4 ,6,6],\n",
    "    [7 ,3,9]]\n",
    "\n",
    "Y = [[5,8,1,2],\n",
    "    [6,23,0,6],\n",
    "    [4,5,6,1]]\n",
    "\n",
    "result = [[0,0,0,0],\n",
    "         [0,0,0,0],\n",
    "         [0,0,0,0]]\n",
    "\n",
    "for i in range(len(X)): \n",
    "    for j in range(len(Y[0])):\n",
    "        for k in range(len(Y)):\n",
    "            result[i][j] += X[i][k] * Y[k][j]\n",
    "\n",
    "        \n",
    "for r in result:\n",
    "    print(r)\n"
   ]
  },
  {
   "cell_type": "code",
   "execution_count": null,
   "id": "5e6418de-f06f-44e1-a3ac-d005d56bb025",
   "metadata": {},
   "outputs": [],
   "source": [
    "3. Write a Python Program to Transpose a Matrix?"
   ]
  },
  {
   "cell_type": "code",
   "execution_count": 5,
   "id": "cc0431eb-3c35-475e-ab18-1c24423e6e4a",
   "metadata": {},
   "outputs": [
    {
     "name": "stdout",
     "output_type": "stream",
     "text": [
      "Original matrix:\n",
      "[1, 2]\n",
      "[3, 4]\n",
      "[5, 6]\n",
      "Transposed matrix:\n",
      "[1, 3, 5]\n",
      "[2, 4, 6]\n"
     ]
    }
   ],
   "source": [
    "matrix = [[1, 2], \n",
    "          [3, 4], \n",
    "          [5, 6]]\n",
    "\n",
    "print(\"Original matrix:\")\n",
    "for row in matrix:\n",
    "    print(row)\n",
    "\n",
    "transpose = [[matrix[j][i] for j in range(len(matrix))] for i in range(len(matrix[0]))]\n",
    "\n",
    "print(\"Transposed matrix:\")\n",
    "for row in transpose:\n",
    "    print(row)"
   ]
  },
  {
   "cell_type": "code",
   "execution_count": null,
   "id": "bf598847-8aa1-42e0-a639-4b117ead8fd5",
   "metadata": {},
   "outputs": [],
   "source": [
    "4. Write a Python Program to Sort Words in Alphabetic Order?"
   ]
  },
  {
   "cell_type": "code",
   "execution_count": 3,
   "id": "2638d547-2135-46aa-a957-f3000c1377fd",
   "metadata": {},
   "outputs": [
    {
     "name": "stdout",
     "output_type": "stream",
     "text": [
      "Words sorted in alphabetical order:\n",
      "am\n",
      "batch\n",
      "from\n",
      "fsds\n",
      "hello\n",
      "i\n"
     ]
    }
   ],
   "source": [
    "string = \"hello i am from fsds batch\"\n",
    "\n",
    "words = string.split()\n",
    "\n",
    "sorted_words = sorted(words)\n",
    "\n",
    "print(\"Words sorted in alphabetical order:\")\n",
    "for word in sorted_words:\n",
    "    print(word)\n"
   ]
  },
  {
   "cell_type": "code",
   "execution_count": null,
   "id": "bb52753a-74ce-416f-8555-054867e4eef5",
   "metadata": {},
   "outputs": [],
   "source": [
    "5. Write a Python Program to Remove Punctuation From a String?"
   ]
  },
  {
   "cell_type": "code",
   "execution_count": 4,
   "id": "1e8463f2-e297-486f-a09e-72f8ecbe3c83",
   "metadata": {},
   "outputs": [
    {
     "name": "stdout",
     "output_type": "stream",
     "text": [
      "Hello I am Dhruba I am from fsds batch\n"
     ]
    }
   ],
   "source": [
    "import string\n",
    "\n",
    "def remove_punctuation(text):\n",
    "  \n",
    "    punctuations = string.punctuation\n",
    "\n",
    "    no_punct = \"\".join([char for char in text if char not in punctuations])\n",
    "\n",
    "    return no_punct\n",
    "\n",
    "text = \"Hello, I am Dhruba! I am from fsds batch?\"\n",
    "no_punct_text = remove_punctuation(text)\n",
    "print(no_punct_text)"
   ]
  },
  {
   "cell_type": "code",
   "execution_count": null,
   "id": "8d604a92-3848-4b42-af3e-ff3b0c0bef1f",
   "metadata": {},
   "outputs": [],
   "source": []
  }
 ],
 "metadata": {
  "kernelspec": {
   "display_name": "Python 3 (ipykernel)",
   "language": "python",
   "name": "python3"
  },
  "language_info": {
   "codemirror_mode": {
    "name": "ipython",
    "version": 3
   },
   "file_extension": ".py",
   "mimetype": "text/x-python",
   "name": "python",
   "nbconvert_exporter": "python",
   "pygments_lexer": "ipython3",
   "version": "3.10.6"
  }
 },
 "nbformat": 4,
 "nbformat_minor": 5
}
