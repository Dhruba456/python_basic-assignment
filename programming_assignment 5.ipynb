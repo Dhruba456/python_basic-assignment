{
 "cells": [
  {
   "cell_type": "code",
   "execution_count": null,
   "id": "757fecb5-a376-45ce-bb1f-125d484eb9ff",
   "metadata": {},
   "outputs": [],
   "source": [
    "1. Write a Python Program to Find LCM?"
   ]
  },
  {
   "cell_type": "code",
   "execution_count": 49,
   "id": "78ef17d7-21ce-463f-99e9-3b658187c24f",
   "metadata": {
    "tags": []
   },
   "outputs": [
    {
     "name": "stdout",
     "output_type": "stream",
     "text": [
      "The L.C.M. is 600\n"
     ]
    }
   ],
   "source": [
    "def find_lcm(n1, n2):\n",
    "\n",
    "    if n1 > n2:\n",
    "        greater = n1\n",
    "    else:\n",
    "        greater = n2\n",
    "\n",
    "    while(True):\n",
    "        if((greater % n1 == 0) and (greater % n2 == 0)):\n",
    "            lcm = greater\n",
    "            break\n",
    "        greater += 1\n",
    "\n",
    "    return lcm\n",
    "\n",
    "num1 = 25\n",
    "num2 = 24\n",
    "\n",
    "print(\"The L.C.M. is\", find_lcm(num1, num2))"
   ]
  },
  {
   "cell_type": "code",
   "execution_count": null,
   "id": "b3fbf0da-e960-4f34-b57e-64f4fc3623b0",
   "metadata": {},
   "outputs": [],
   "source": [
    "2. Write a Python Program to Find HCF?"
   ]
  },
  {
   "cell_type": "code",
   "execution_count": 51,
   "id": "20df5024-024d-459a-ad09-ade1cd456879",
   "metadata": {},
   "outputs": [
    {
     "name": "stdout",
     "output_type": "stream",
     "text": [
      "The H.C.F. is 1\n"
     ]
    }
   ],
   "source": [
    "def find_hcf(n1, n2):\n",
    "\n",
    "    if n1 > n2:\n",
    "        smaller = n2\n",
    "    else:\n",
    "        smaller = n1\n",
    "    for i in range(1, smaller+1):\n",
    "        if ((n1 % i == 0) and ( n2 % i == 0)):\n",
    "            hcf = i\n",
    "    return hcf\n",
    "\n",
    "num1 = 25\n",
    "num2 = 12\n",
    "\n",
    "print(\"The H.C.F. is\", find_hcf(num1,num2))"
   ]
  },
  {
   "cell_type": "code",
   "execution_count": null,
   "id": "fdb0d1ee-e5bb-4963-af8f-f5023cc690e2",
   "metadata": {},
   "outputs": [],
   "source": [
    "3.\tWrite a Python Program to Convert Decimal to Binary, Octal and Hexadecimal?"
   ]
  },
  {
   "cell_type": "code",
   "execution_count": 1,
   "id": "8f2ea339-6bc0-4090-9330-0109f8e74b58",
   "metadata": {},
   "outputs": [
    {
     "name": "stdin",
     "output_type": "stream",
     "text": [
      "Enter a decimal number:  344\n"
     ]
    },
    {
     "name": "stdout",
     "output_type": "stream",
     "text": [
      "The binary value of this decimal number is 0b101011000\n",
      "The Octal value of this decimal number is 0o530\n",
      "The Hexadecimal value of this decimal number is 0x158\n"
     ]
    }
   ],
   "source": [
    "dec = int(input('Enter a decimal number: '))\n",
    "\n",
    "print(f'The binary value of this decimal number is {bin(dec)}')\n",
    "print(f'The Octal value of this decimal number is {oct(dec)}')\n",
    "print(f'The Hexadecimal value of this decimal number is {hex(dec)}')"
   ]
  },
  {
   "cell_type": "code",
   "execution_count": null,
   "id": "cb411cfb-40e9-4fc3-a448-41d7c258d95c",
   "metadata": {},
   "outputs": [],
   "source": [
    "4.\tWrite a Python Program To Find ASCII value of a character?"
   ]
  },
  {
   "cell_type": "code",
   "execution_count": 3,
   "id": "7e01b243-1035-46d5-8855-f31b888a3bed",
   "metadata": {},
   "outputs": [
    {
     "name": "stdin",
     "output_type": "stream",
     "text": [
      "Enter a character:  p\n"
     ]
    },
    {
     "name": "stdout",
     "output_type": "stream",
     "text": [
      "ASCII value of p is 112\n"
     ]
    }
   ],
   "source": [
    "v = input('Enter a character: ')\n",
    "ascii_value = ord(v)\n",
    "print(f'ASCII value of {v} is {ascii_value}')"
   ]
  },
  {
   "cell_type": "code",
   "execution_count": null,
   "id": "f1be0529-9ed0-4d42-89d2-1b31710aa122",
   "metadata": {},
   "outputs": [],
   "source": [
    "5.\tWrite a Python Program to Make a Simple Calculator with 4 basic mathematical operations?"
   ]
  },
  {
   "cell_type": "code",
   "execution_count": 6,
   "id": "95df2da8-d68a-46ca-9ffa-b5f0f215ca5b",
   "metadata": {},
   "outputs": [
    {
     "name": "stdin",
     "output_type": "stream",
     "text": [
      "Enter first number:  50\n",
      "Enter second number:  5\n"
     ]
    },
    {
     "name": "stdout",
     "output_type": "stream",
     "text": [
      "Select operation:\n",
      "1. Add\n",
      "2. Subtract\n",
      "3. Multiply\n",
      "4. Divide\n"
     ]
    },
    {
     "name": "stdin",
     "output_type": "stream",
     "text": [
      "Enter choice (1/2/3/4):  3\n"
     ]
    },
    {
     "name": "stdout",
     "output_type": "stream",
     "text": [
      "50.0 * 5.0 = 250.0\n"
     ]
    }
   ],
   "source": [
    "def add(x, y):\n",
    "    return x + y\n",
    "\n",
    "def subtract(x, y):\n",
    "    return x - y\n",
    "\n",
    "def multiply(x, y):\n",
    "    return x * y\n",
    "\n",
    "def divide(x, y):\n",
    "    return x / y\n",
    "\n",
    "n1 = float(input(\"Enter first number: \"))\n",
    "n2 = float(input(\"Enter second number: \"))\n",
    "\n",
    "print(\"Select operation:\")\n",
    "print(\"1. Add\")\n",
    "print(\"2. Subtract\")\n",
    "print(\"3. Multiply\")\n",
    "print(\"4. Divide\")\n",
    "\n",
    "choice = input(\"Enter choice (1/2/3/4): \")\n",
    "\n",
    "if choice == '1':\n",
    "    print(n1, \"+\", n2, \"=\", add(n1, n2))\n",
    "\n",
    "elif choice == '2':\n",
    "    print(n1, \"-\", n2, \"=\", subtract(n1, n2))\n",
    "\n",
    "elif choice == '3':\n",
    "    print(n1, \"*\", n2, \"=\", multiply(n1, n2))\n",
    "\n",
    "elif choice == '4':\n",
    "    print(n1, \"/\", n2, \"=\", divide(n1, n2))\n",
    "\n",
    "else:\n",
    "    print(\"Invalid input\")\n"
   ]
  },
  {
   "cell_type": "code",
   "execution_count": null,
   "id": "36c2bcfe-959a-4313-9d41-075dfe7b0cdd",
   "metadata": {},
   "outputs": [],
   "source": []
  }
 ],
 "metadata": {
  "kernelspec": {
   "display_name": "Python 3 (ipykernel)",
   "language": "python",
   "name": "python3"
  },
  "language_info": {
   "codemirror_mode": {
    "name": "ipython",
    "version": 3
   },
   "file_extension": ".py",
   "mimetype": "text/x-python",
   "name": "python",
   "nbconvert_exporter": "python",
   "pygments_lexer": "ipython3",
   "version": "3.10.6"
  }
 },
 "nbformat": 4,
 "nbformat_minor": 5
}
