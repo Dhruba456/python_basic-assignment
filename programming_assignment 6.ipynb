{
 "cells": [
  {
   "cell_type": "code",
   "execution_count": null,
   "id": "fc5fe611-5cfb-484e-b42e-c8e4a4d44336",
   "metadata": {},
   "outputs": [],
   "source": [
    "1. Write a Python Program to Display Fibonacci Sequence Using Recursion?"
   ]
  },
  {
   "cell_type": "code",
   "execution_count": 37,
   "id": "5ea92224-0214-4a23-800c-c62a8ff08077",
   "metadata": {},
   "outputs": [
    {
     "name": "stdin",
     "output_type": "stream",
     "text": [
      "Enter the number:  6\n"
     ]
    },
    {
     "name": "stdout",
     "output_type": "stream",
     "text": [
      "Fibonacci sequence is:\n",
      "0\n",
      "1\n",
      "1\n",
      "2\n",
      "3\n",
      "5\n"
     ]
    }
   ],
   "source": [
    "num = int(input('Enter the number: '))\n",
    "print('Fibonacci sequence is:')\n",
    "def fibonacci(n):\n",
    "    if(n==0 or n==1):\n",
    "        return n\n",
    "    else:\n",
    "        return(fibonacci(n-1)+fibonacci(n-2))\n",
    "for i in range(num):\n",
    "    print(fibonacci(i))"
   ]
  },
  {
   "cell_type": "code",
   "execution_count": null,
   "id": "79d80374-5583-42fe-8de5-cb0df8f77191",
   "metadata": {},
   "outputs": [],
   "source": [
    "2. Write a Python Program to Find Factorial of Number Using Recursion?"
   ]
  },
  {
   "cell_type": "code",
   "execution_count": 6,
   "id": "72606625-5d6c-4b84-9e54-f5241873007e",
   "metadata": {},
   "outputs": [
    {
     "name": "stdin",
     "output_type": "stream",
     "text": [
      "Enter the number:  6\n"
     ]
    },
    {
     "name": "stdout",
     "output_type": "stream",
     "text": [
      "Factorial of 6 is: 720\n"
     ]
    }
   ],
   "source": [
    "def factorial(n):\n",
    "    if(n==0 or n==1):\n",
    "        return 1\n",
    "    else:\n",
    "        return(n*factorial(n-1))\n",
    "num=int(input('Enter the number: '))\n",
    "print(f'Factorial of {num} is: {factorial(num)}')"
   ]
  },
  {
   "cell_type": "code",
   "execution_count": null,
   "id": "68c74333-0c16-405b-950b-4c7936fe9c3c",
   "metadata": {},
   "outputs": [],
   "source": [
    "3. Write a Python Program to calculate your Body Mass Index?"
   ]
  },
  {
   "cell_type": "code",
   "execution_count": 86,
   "id": "42713998-0e5c-42fb-b344-d22e1fd5918a",
   "metadata": {},
   "outputs": [
    {
     "name": "stdin",
     "output_type": "stream",
     "text": [
      "Enter your weight in kg:  70\n",
      "Enter your height in meter:  1.75\n"
     ]
    },
    {
     "name": "stdout",
     "output_type": "stream",
     "text": [
      "Your Body Mass Index is: 22.857143 kg/m²\n",
      "your weight is healthy\n"
     ]
    }
   ],
   "source": [
    "def body_mass(m,n):\n",
    "    bmi = m/(n**2)\n",
    "    print(f'Your Body Mass Index is: {bmi:2f} kg/m²')\n",
    "    if (bmi<25.0 and bmi>=18.5):\n",
    "        print('your weight is healthy')\n",
    "    elif (bmi<30.0 and bmi>=25.0):\n",
    "        print('You are overweight')\n",
    "    elif (bmi>=30.0):\n",
    "        print('You fall into obesity range')\n",
    "    else:\n",
    "        print('You are underweight')\n",
    "w = float(input('Enter your weight in kg: '))\n",
    "m = float(input('Enter your height in meter: '))\n",
    "body_mass(w,m)"
   ]
  },
  {
   "cell_type": "code",
   "execution_count": null,
   "id": "07b99c3c-c340-49b4-8d39-5df83cace6db",
   "metadata": {},
   "outputs": [],
   "source": [
    "4. Write a Python Program to calculate the natural logarithm of any number?"
   ]
  },
  {
   "cell_type": "code",
   "execution_count": 95,
   "id": "b5fe3f3a-ce7a-4307-8540-3425caa371ca",
   "metadata": {},
   "outputs": [
    {
     "name": "stdin",
     "output_type": "stream",
     "text": [
      "Enter the number:  4\n"
     ]
    },
    {
     "name": "stdout",
     "output_type": "stream",
     "text": [
      "Natural logarithm of 4 is : 1.3862943611198906\n"
     ]
    }
   ],
   "source": [
    "import math\n",
    "\n",
    "num = int(input('Enter the number: '))\n",
    "\n",
    "print (f\"Natural logarithm of {num} is : \", end=\"\")\n",
    "print (math.log(num))"
   ]
  },
  {
   "cell_type": "code",
   "execution_count": null,
   "id": "57f9f64d-f47b-4c3f-8b21-61803fbb862f",
   "metadata": {},
   "outputs": [],
   "source": [
    "5. Write a Python Program for cube sum of first n natural numbers?"
   ]
  },
  {
   "cell_type": "code",
   "execution_count": 96,
   "id": "1a6862df-6e1f-431a-8e82-bf3343a42ff4",
   "metadata": {},
   "outputs": [
    {
     "name": "stdin",
     "output_type": "stream",
     "text": [
      "Enter the number:  3\n"
     ]
    },
    {
     "name": "stdout",
     "output_type": "stream",
     "text": [
      "The sum of cube is: 36.0\n"
     ]
    }
   ],
   "source": [
    "def cube_sum(n):\n",
    "    return (n*(n+1)/2)**2)\n",
    "num = int(input('Enter the number: '))\n",
    "print(f'The sum of cube is: {cube_sum(num)}')"
   ]
  },
  {
   "cell_type": "code",
   "execution_count": null,
   "id": "46e51168-8ec1-4dd3-94f2-892c1e9972eb",
   "metadata": {},
   "outputs": [],
   "source": []
  }
 ],
 "metadata": {
  "kernelspec": {
   "display_name": "Python 3 (ipykernel)",
   "language": "python",
   "name": "python3"
  },
  "language_info": {
   "codemirror_mode": {
    "name": "ipython",
    "version": 3
   },
   "file_extension": ".py",
   "mimetype": "text/x-python",
   "name": "python",
   "nbconvert_exporter": "python",
   "pygments_lexer": "ipython3",
   "version": "3.10.6"
  }
 },
 "nbformat": 4,
 "nbformat_minor": 5
}
