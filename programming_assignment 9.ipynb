{
  "cells": [
    {
      "cell_type": "code",
      "execution_count": null,
      "metadata": {
        "id": "tGfZiPWAwy6B"
      },
      "outputs": [],
      "source": [
        "1. Write a Python program to check if the given number is a Disarium Number?"
      ]
    },
    {
      "cell_type": "code",
      "execution_count": 6,
      "metadata": {
        "colab": {
          "base_uri": "https://localhost:8080/"
        },
        "id": "2FCieObXwrNb",
        "outputId": "31147523-5de1-4dc1-8925-b1bf361e9445"
      },
      "outputs": [
        {
          "name": "stdout",
          "output_type": "stream",
          "text": [
            "Enter a number: 175\n",
            "175 is a Disarium Number\n"
          ]
        }
      ],
      "source": [
        "num = input(\"Enter a number: \")\n",
        "n = int(num)\n",
        "digits = list(num)\n",
        "sum = 0\n",
        "\n",
        "for i in range(len(digits)):\n",
        "    sum += int(digits[i])**(i+1)\n",
        "\n",
        "if sum == n:\n",
        "    print(n, \"is a Disarium Number\")\n",
        "else:\n",
        "    print(n, \"is not a Disarium Number\")"
      ]
    },
    {
      "cell_type": "code",
      "execution_count": null,
      "metadata": {
        "id": "PpLYF8uEwrD6"
      },
      "outputs": [],
      "source": [
        "2. Write a Python program to print all disarium numbers between 1 to 100?"
      ]
    },
    {
      "cell_type": "code",
      "execution_count": 5,
      "metadata": {
        "colab": {
          "base_uri": "https://localhost:8080/"
        },
        "id": "hIuippFZwrWf",
        "outputId": "e92cca0d-8363-4cd1-b009-fc24e4dd401e"
      },
      "outputs": [
        {
          "name": "stdout",
          "output_type": "stream",
          "text": [
            "Disarium Numbers between 1 to 100:\n",
            "1\n",
            "2\n",
            "3\n",
            "4\n",
            "5\n",
            "6\n",
            "7\n",
            "8\n",
            "9\n",
            "89\n"
          ]
        }
      ],
      "source": [
        "def is_disarium(n):\n",
        "    digits = str(n)\n",
        "    sum = 0\n",
        "    for i in range(len(digits)):\n",
        "        sum += int(digits[i])**(i+1)\n",
        "    return sum == n\n",
        "\n",
        "print(\"Disarium Numbers between 1 to 100:\")\n",
        "for i in range(1, 101):\n",
        "    if is_disarium(i):\n",
        "        print(i)"
      ]
    },
    {
      "cell_type": "code",
      "execution_count": null,
      "metadata": {
        "id": "UwdbNXtbw7TI"
      },
      "outputs": [],
      "source": [
        "3. Write a Python program to check if the given number is Happy Number?"
      ]
    },
    {
      "cell_type": "code",
      "execution_count": 2,
      "metadata": {
        "colab": {
          "base_uri": "https://localhost:8080/"
        },
        "id": "q2pPckUluvML",
        "outputId": "ef9fa36d-eb8d-4654-ba35-0b239d2537db"
      },
      "outputs": [
        {
          "name": "stdout",
          "output_type": "stream",
          "text": [
            "Enter a number to check if it is a Happy Number: 19\n",
            "19 is a Happy Number\n"
          ]
        }
      ],
      "source": [
        "def is_happy_number(num):\n",
        "    seen = set()\n",
        "    while num != 1:\n",
        "        num = sum(int(digit)**2 for digit in str(num))\n",
        "        if num in seen:\n",
        "            return False\n",
        "        seen.add(num)\n",
        "    return True\n",
        "\n",
        "num = int(input(\"Enter a number to check if it is a Happy Number: \"))\n",
        "if is_happy_number(num):\n",
        "    print(num, \"is a Happy Number\")\n",
        "else:\n",
        "    print(num, \"is not a Happy Number\")\n"
      ]
    },
    {
      "cell_type": "code",
      "execution_count": null,
      "metadata": {
        "id": "s0duv1i4xGdn"
      },
      "outputs": [],
      "source": [
        "4. Write a Python program to print all happy numbers between 1 and 100?"
      ]
    },
    {
      "cell_type": "code",
      "execution_count": 4,
      "metadata": {
        "colab": {
          "base_uri": "https://localhost:8080/"
        },
        "id": "6f_MDIQHwixT",
        "outputId": "0b223847-3875-4a37-a4c0-02c5333e6064"
      },
      "outputs": [
        {
          "name": "stdout",
          "output_type": "stream",
          "text": [
            "Happy Numbers between 1 and 100:\n",
            "1\n",
            "7\n",
            "10\n",
            "13\n",
            "19\n",
            "23\n",
            "28\n",
            "31\n",
            "32\n",
            "44\n",
            "49\n",
            "68\n",
            "70\n",
            "79\n",
            "82\n",
            "86\n",
            "91\n",
            "94\n",
            "97\n",
            "100\n"
          ]
        }
      ],
      "source": [
        "def is_happy_number(num):\n",
        "    seen = set()\n",
        "    while num != 1:\n",
        "        num = sum(int(digit)**2 for digit in str(num))\n",
        "        if num in seen:\n",
        "            return False\n",
        "        seen.add(num)\n",
        "    return True\n",
        "\n",
        "print(\"Happy Numbers between 1 and 100:\")\n",
        "for num in range(1, 101):\n",
        "    if is_happy_number(num):\n",
        "        print(num)\n"
      ]
    },
    {
      "cell_type": "code",
      "execution_count": null,
      "metadata": {
        "id": "AYVKs5BMxJ6W"
      },
      "outputs": [],
      "source": [
        "5. Write a Python program to determine whether the given number is a Harshad Number?"
      ]
    },
    {
      "cell_type": "code",
      "execution_count": 3,
      "metadata": {
        "colab": {
          "base_uri": "https://localhost:8080/"
        },
        "id": "w1bHt8Csu6dr",
        "outputId": "7f1a755e-de63-43e8-f131-b1b8c83f1834"
      },
      "outputs": [
        {
          "name": "stdout",
          "output_type": "stream",
          "text": [
            "18 is a Harshad number: True\n",
            "21 is a Harshad number: True\n",
            "1729 is a Harshad number: True\n"
          ]
        }
      ],
      "source": [
        "def is_harshad_number(num):\n",
        "    # Compute the sum of the digits of the number\n",
        "    sum_of_digits = sum(int(digit) for digit in str(num))\n",
        "    \n",
        "    # Check if the number is divisible by the sum of its digits\n",
        "    return num % sum_of_digits == 0\n",
        "\n",
        "# Test the function with some examples\n",
        "num1 = 18\n",
        "num2 = 21\n",
        "num3 = 1729\n",
        "\n",
        "print(f\"{num1} is a Harshad number: {is_harshad_number(num1)}\")\n",
        "print(f\"{num2} is a Harshad number: {is_harshad_number(num2)}\")\n",
        "print(f\"{num3} is a Harshad number: {is_harshad_number(num3)}\")\n"
      ]
    },
    {
      "cell_type": "code",
      "execution_count": null,
      "metadata": {
        "id": "-FRwalpLwZ2s"
      },
      "outputs": [],
      "source": [
        "6. Write a Python program to print all pronic numbers between 1 and 100?"
      ]
    },
    {
      "cell_type": "code",
      "execution_count": 7,
      "metadata": {
        "colab": {
          "base_uri": "https://localhost:8080/"
        },
        "id": "cUu0dqB4xYnX",
        "outputId": "c88619e6-36b6-4d8f-e88f-67383b9a88a1"
      },
      "outputs": [
        {
          "name": "stdout",
          "output_type": "stream",
          "text": [
            "2\n",
            "6\n",
            "12\n",
            "20\n",
            "30\n",
            "42\n",
            "56\n",
            "72\n",
            "90\n"
          ]
        }
      ],
      "source": [
        "for num in range(1, 101):\n",
        "    for i in range(1, num):\n",
        "        if i * (i + 1) == num:\n",
        "            print(num)\n",
        "            break\n"
      ]
    },
    {
      "cell_type": "code",
      "execution_count": null,
      "metadata": {
        "id": "tZn0Z5Boxoic"
      },
      "outputs": [],
      "source": []
    }
  ],
  "metadata": {
    "colab": {
      "name": "Welcome To Colaboratory",
      "provenance": []
    },
    "kernelspec": {
      "display_name": "Python 3",
      "name": "python3"
    }
  },
  "nbformat": 4,
  "nbformat_minor": 0
}
