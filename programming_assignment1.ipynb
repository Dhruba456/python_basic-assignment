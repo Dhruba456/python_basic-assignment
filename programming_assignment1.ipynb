{
 "cells": [
  {
   "cell_type": "code",
   "execution_count": null,
   "id": "c29cdaff-d599-459d-9ec5-79b31fd394e8",
   "metadata": {},
   "outputs": [],
   "source": [
    "1. Write a Python program to print \"Hello Python\"?"
   ]
  },
  {
   "cell_type": "code",
   "execution_count": 1,
   "id": "d3c66165-e13e-46ab-8213-97d00f37e753",
   "metadata": {},
   "outputs": [
    {
     "name": "stdout",
     "output_type": "stream",
     "text": [
      "Hello Python\n"
     ]
    }
   ],
   "source": [
    "print('Hello Python')"
   ]
  },
  {
   "cell_type": "code",
   "execution_count": null,
   "id": "985e9d3d-def7-4902-82d8-aa379183d0d3",
   "metadata": {},
   "outputs": [],
   "source": [
    "2. Write a Python program to do arithmetical operations addition and division.?"
   ]
  },
  {
   "cell_type": "code",
   "execution_count": 8,
   "id": "1886f933-dd3a-4e99-8ae3-245310a283dd",
   "metadata": {},
   "outputs": [
    {
     "name": "stdin",
     "output_type": "stream",
     "text": [
      "Enter the first value:  10\n",
      "Enter the second value:  6\n"
     ]
    },
    {
     "name": "stdout",
     "output_type": "stream",
     "text": [
      "The Addition of 10 and 6 is 16\n",
      "The Division of 10 and 6 is 1.6666666666666667\n"
     ]
    }
   ],
   "source": [
    "a = int(input('Enter the first value: '))\n",
    "b = int(input('Enter the second value: '))\n",
    "print(f'The Addition of {a} and {b} is {a+b}') \n",
    "print(f'The Division of {a} and {b} is {a/b}') "
   ]
  },
  {
   "cell_type": "code",
   "execution_count": null,
   "id": "2010afa6-29a6-4ec2-9639-b00c74e5fd39",
   "metadata": {},
   "outputs": [],
   "source": [
    "3. Write a Python program to find the area of a triangle?"
   ]
  },
  {
   "cell_type": "code",
   "execution_count": 11,
   "id": "14c0cc9e-4116-4727-8e9a-c0415cafe4ae",
   "metadata": {},
   "outputs": [
    {
     "name": "stdin",
     "output_type": "stream",
     "text": [
      "Enter the base of the triangle:  10\n",
      "Enter the height of the triangle:  7\n"
     ]
    },
    {
     "name": "stdout",
     "output_type": "stream",
     "text": [
      "The area of the triangle is: 35.0\n"
     ]
    }
   ],
   "source": [
    "a = int(input('Enter the base of the triangle: '))\n",
    "b = int(input('Enter the height of the triangle: '))\n",
    "print(f'The area of the triangle is: {(a*b)/2}')"
   ]
  },
  {
   "cell_type": "code",
   "execution_count": null,
   "id": "cf2c2bec-4dcd-45bd-9f08-62638f28ba03",
   "metadata": {},
   "outputs": [],
   "source": [
    "4. Write a Python program to swap two variables?"
   ]
  },
  {
   "cell_type": "code",
   "execution_count": 16,
   "id": "357a20ea-b7e2-4db3-a3e4-037ce5542732",
   "metadata": {},
   "outputs": [
    {
     "name": "stdin",
     "output_type": "stream",
     "text": [
      "Enter the first variable 6\n",
      "Enter the second variable 8\n"
     ]
    },
    {
     "name": "stdout",
     "output_type": "stream",
     "text": [
      "The value of a after swapping: 8\n",
      "The value of b after swapping: 6\n"
     ]
    }
   ],
   "source": [
    "a = int(input('Enter the first variable'))\n",
    "b = int(input('Enter the second variable'))\n",
    "\n",
    "temp = a\n",
    "a = b\n",
    "b = temp\n",
    "\n",
    "print(f'The value of a after swapping: {a}')\n",
    "print(f'The value of b after swapping: {b}')"
   ]
  },
  {
   "cell_type": "code",
   "execution_count": null,
   "id": "8b10a59f-1065-4b60-9e06-780caa4c47fb",
   "metadata": {},
   "outputs": [],
   "source": [
    "5. Write a Python program to generate a random number?"
   ]
  },
  {
   "cell_type": "code",
   "execution_count": 18,
   "id": "5360c51e-30a0-49cb-818a-0f6559f2d585",
   "metadata": {},
   "outputs": [
    {
     "name": "stdout",
     "output_type": "stream",
     "text": [
      "52\n"
     ]
    }
   ],
   "source": [
    "import random\n",
    "\n",
    "random_number = random.randint(1, 100)\n",
    "print(random_number)"
   ]
  }
 ],
 "metadata": {
  "kernelspec": {
   "display_name": "Python 3 (ipykernel)",
   "language": "python",
   "name": "python3"
  },
  "language_info": {
   "codemirror_mode": {
    "name": "ipython",
    "version": 3
   },
   "file_extension": ".py",
   "mimetype": "text/x-python",
   "name": "python",
   "nbconvert_exporter": "python",
   "pygments_lexer": "ipython3",
   "version": "3.10.6"
  }
 },
 "nbformat": 4,
 "nbformat_minor": 5
}
