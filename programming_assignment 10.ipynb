{
 "cells": [
  {
   "cell_type": "code",
   "execution_count": null,
   "id": "f05369f8-6ed0-4de0-a481-469b4448ba55",
   "metadata": {},
   "outputs": [],
   "source": [
    "1. Write a Python program to find sum of elements in list?"
   ]
  },
  {
   "cell_type": "code",
   "execution_count": 13,
   "id": "e3280899-f19c-4388-92e6-927891e0c23b",
   "metadata": {},
   "outputs": [
    {
     "name": "stdout",
     "output_type": "stream",
     "text": [
      "The sum of elements in given list is: 608\n"
     ]
    }
   ],
   "source": [
    "l=[1,2,3,589,6,2,5]\n",
    "sum = 0\n",
    "for i in l:\n",
    "    sum = i + sum\n",
    "print(f'The sum of elements in given list is: {sum}')"
   ]
  },
  {
   "cell_type": "code",
   "execution_count": null,
   "id": "fe429b4b-6ebc-415c-8c93-35cb51b0f6df",
   "metadata": {},
   "outputs": [],
   "source": [
    "2. Write a Python program to Multiply all numbers in the list?"
   ]
  },
  {
   "cell_type": "code",
   "execution_count": 18,
   "id": "b557e417-9c0d-44df-8108-18dfc755d6c1",
   "metadata": {},
   "outputs": [
    {
     "name": "stdout",
     "output_type": "stream",
     "text": [
      "The Multiply of elements in given list is: 90\n"
     ]
    }
   ],
   "source": [
    "l=[2,5,9]\n",
    "mul = 1\n",
    "for i in l:\n",
    "    mul = i * mul\n",
    "print(f'The Multiply of elements in given list is: {mul}')"
   ]
  },
  {
   "cell_type": "code",
   "execution_count": null,
   "id": "de9bcbe0-54e6-470d-9184-6e27c0c94e93",
   "metadata": {},
   "outputs": [],
   "source": [
    "3. Write a Python program to find smallest number in a list?"
   ]
  },
  {
   "cell_type": "code",
   "execution_count": 28,
   "id": "f2ed4130-d3e7-4301-9a66-8c37645e0646",
   "metadata": {},
   "outputs": [
    {
     "name": "stdout",
     "output_type": "stream",
     "text": [
      "The smallest number in the given list is : 1\n"
     ]
    }
   ],
   "source": [
    "l=[4,5,6,8,23,86,2,1,3,5]\n",
    "l.sort()\n",
    "print(f'The smallest number in the given list is : {l[0]}')"
   ]
  },
  {
   "cell_type": "code",
   "execution_count": null,
   "id": "b56d83ec-bd2f-454f-a2ba-8f67cfa1ff6a",
   "metadata": {},
   "outputs": [],
   "source": [
    "4. Write a Python program to find largest number in a list?"
   ]
  },
  {
   "cell_type": "code",
   "execution_count": 30,
   "id": "7060c678-f4dc-40a3-a4bf-f5c8010465ea",
   "metadata": {},
   "outputs": [
    {
     "name": "stdout",
     "output_type": "stream",
     "text": [
      "The largest number in the given list is : 86\n"
     ]
    }
   ],
   "source": [
    "l=[4,5,6,8,23,86,2,1,3,5]\n",
    "l.sort()\n",
    "print(f'The largest number in the given list is : {l[-1]}')"
   ]
  },
  {
   "cell_type": "code",
   "execution_count": null,
   "id": "eac468d1-7988-4846-aedf-2fb323d347eb",
   "metadata": {},
   "outputs": [],
   "source": [
    "5. Write a Python program to find second largest number in a list?"
   ]
  },
  {
   "cell_type": "code",
   "execution_count": 32,
   "id": "34e53caf-b8d8-4fe2-98d6-0620128bc67c",
   "metadata": {},
   "outputs": [
    {
     "name": "stdout",
     "output_type": "stream",
     "text": [
      "The second largest number in the given list is : 23\n"
     ]
    }
   ],
   "source": [
    "l=[4,5,6,8,23,86,2,1,3,5]\n",
    "l.sort()\n",
    "print(f'The second largest number in the given list is : {l[-2]}')"
   ]
  },
  {
   "cell_type": "code",
   "execution_count": null,
   "id": "12d0fb54-4b73-47a3-a1ca-692a8ffbf33b",
   "metadata": {},
   "outputs": [],
   "source": [
    "6. Write a Python program to find N largest elements from a list?"
   ]
  },
  {
   "cell_type": "code",
   "execution_count": 46,
   "id": "7e0fc855-47dd-4e2e-92e5-90dda5442d34",
   "metadata": {},
   "outputs": [
    {
     "name": "stdin",
     "output_type": "stream",
     "text": [
      "Enter the number of elememt: 3\n"
     ]
    },
    {
     "name": "stdout",
     "output_type": "stream",
     "text": [
      "The 3 largest number of given list is:\n",
      "86\n",
      "23\n",
      "8\n"
     ]
    }
   ],
   "source": [
    "N = int(input('Enter the number of elememt:'))\n",
    "print(f'The {N} largest number of given list is:')\n",
    "l=[4,5,6,8,23,86,2,1,3,5]\n",
    "l.sort()\n",
    "for i in range(1,N+1):  \n",
    "    print(l[-i])"
   ]
  },
  {
   "cell_type": "code",
   "execution_count": null,
   "id": "889e379c-d0e5-40e6-ac7f-7880bb811ee4",
   "metadata": {},
   "outputs": [],
   "source": [
    "7. Write a Python program to print even numbers in a list?"
   ]
  },
  {
   "cell_type": "code",
   "execution_count": 36,
   "id": "f2bfe449-861d-40f4-83c4-671ffb4c0a80",
   "metadata": {},
   "outputs": [
    {
     "name": "stdout",
     "output_type": "stream",
     "text": [
      "The even number of the given list is: \n",
      "2\n",
      "4\n",
      "6\n",
      "8\n",
      "10\n"
     ]
    }
   ],
   "source": [
    "l=[1,2,3,4,5,6,7,8,9,10]\n",
    "print('The even number of the given list is: ')\n",
    "for i in l:\n",
    "    if i % 2 == 0:        \n",
    "        print(i)"
   ]
  },
  {
   "cell_type": "code",
   "execution_count": null,
   "id": "da93913a-aa9b-4065-a3cb-4ace77d7d881",
   "metadata": {},
   "outputs": [],
   "source": [
    "8. Write a Python program to print odd numbers in a List?"
   ]
  },
  {
   "cell_type": "code",
   "execution_count": 37,
   "id": "0368baf0-e4a4-433d-b51f-ea13a533397a",
   "metadata": {},
   "outputs": [
    {
     "name": "stdout",
     "output_type": "stream",
     "text": [
      "The odd number of the given list is: \n",
      "1\n",
      "3\n",
      "5\n",
      "7\n",
      "9\n"
     ]
    }
   ],
   "source": [
    "l=[1,2,3,4,5,6,7,8,9,10]\n",
    "print('The odd number of the given list is: ')\n",
    "for i in l:\n",
    "    if i % 2 != 0:        \n",
    "        print(i)"
   ]
  },
  {
   "cell_type": "code",
   "execution_count": null,
   "id": "c23635c7-5f8f-4826-964b-11ad17e342d7",
   "metadata": {},
   "outputs": [],
   "source": [
    "9. Write a Python program to Remove empty List from List?"
   ]
  },
  {
   "cell_type": "code",
   "execution_count": 54,
   "id": "065345c5-c000-4b82-99ca-4fc3279c0ff8",
   "metadata": {},
   "outputs": [
    {
     "name": "stdout",
     "output_type": "stream",
     "text": [
      "After removing the empty list the list will be: [2, 85, 3, 96, 3, 68]\n"
     ]
    }
   ],
   "source": [
    "l=[2,85,3,[],96,[],3,68,[]]\n",
    "for i in l:\n",
    "    if i == []:\n",
    "        l.remove(i)\n",
    "print(f'After removing the empty list the list will be: {l}')"
   ]
  },
  {
   "cell_type": "code",
   "execution_count": null,
   "id": "1d2429f1-6442-4e0f-b47b-4763650ad5c0",
   "metadata": {},
   "outputs": [],
   "source": [
    "10. Write a Python program to Cloning or Copying a list?"
   ]
  },
  {
   "cell_type": "code",
   "execution_count": 55,
   "id": "1e7e08e9-e21a-4a02-ba52-6d232e21e35c",
   "metadata": {},
   "outputs": [
    {
     "name": "stdout",
     "output_type": "stream",
     "text": [
      "[1, 2, 3, 4, 5, 6, 7, 8, 9]\n"
     ]
    }
   ],
   "source": [
    "l = [1,2,3,4,5,6,7,8,9]\n",
    "copy_l=[]\n",
    "for i in l:\n",
    "    copy_l.append(i)\n",
    "print(copy_l)"
   ]
  },
  {
   "cell_type": "code",
   "execution_count": null,
   "id": "5652f9f6-af0b-4120-9e43-0104fcd23caf",
   "metadata": {},
   "outputs": [],
   "source": [
    "11. Write a Python program to Count occurrences of an element in a list?"
   ]
  },
  {
   "cell_type": "code",
   "execution_count": 58,
   "id": "519402e4-a180-4e7e-be80-e5f64189ee2e",
   "metadata": {},
   "outputs": [
    {
     "name": "stdout",
     "output_type": "stream",
     "text": [
      "The number 3 is occured in the list 4 times\n"
     ]
    }
   ],
   "source": [
    "l = [1,2,3,4,5,6,7,8,1,3,3,4,1,9,3,9]\n",
    "c = 3\n",
    "count = 0\n",
    "for i in l:\n",
    "    if i==c:\n",
    "        count = count + 1\n",
    "print(f'The number {c} is occured in the list {count} times')"
   ]
  },
  {
   "cell_type": "code",
   "execution_count": null,
   "id": "7b94bffa-437d-4933-a644-2dec83b3a4c2",
   "metadata": {},
   "outputs": [],
   "source": []
  }
 ],
 "metadata": {
  "kernelspec": {
   "display_name": "Python 3 (ipykernel)",
   "language": "python",
   "name": "python3"
  },
  "language_info": {
   "codemirror_mode": {
    "name": "ipython",
    "version": 3
   },
   "file_extension": ".py",
   "mimetype": "text/x-python",
   "name": "python",
   "nbconvert_exporter": "python",
   "pygments_lexer": "ipython3",
   "version": "3.10.6"
  }
 },
 "nbformat": 4,
 "nbformat_minor": 5
}
