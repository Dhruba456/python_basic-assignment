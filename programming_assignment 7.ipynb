{
 "cells": [
  {
   "cell_type": "code",
   "execution_count": null,
   "id": "0083ba07-59d7-4a29-8ebc-96bb8bb2b0a9",
   "metadata": {},
   "outputs": [],
   "source": [
    "1. Write a Python Program to find sum of array?"
   ]
  },
  {
   "cell_type": "code",
   "execution_count": 7,
   "id": "1f3f66fe-5b86-4e3e-8577-f30c8ba97a79",
   "metadata": {},
   "outputs": [
    {
     "name": "stdout",
     "output_type": "stream",
     "text": [
      "Sum of array is: 157\n"
     ]
    }
   ],
   "source": [
    "array = [1,23,45,65,23]\n",
    "temp = 0\n",
    "for i in array:\n",
    "    temp = temp+i\n",
    "print(f'Sum of array is: {temp}')"
   ]
  },
  {
   "cell_type": "code",
   "execution_count": null,
   "id": "07481331-de35-478f-ab45-141d1067e2eb",
   "metadata": {},
   "outputs": [],
   "source": [
    "2. Write a Python Program to find largest element in an array?"
   ]
  },
  {
   "cell_type": "code",
   "execution_count": 22,
   "id": "92a73b54-6a7e-4b16-991b-8a153c22dac2",
   "metadata": {},
   "outputs": [
    {
     "name": "stdout",
     "output_type": "stream",
     "text": [
      "The largest element of this given array is: 65\n"
     ]
    }
   ],
   "source": [
    "array = [21,23,45,65,24]\n",
    "largest = array[0]\n",
    "for i in range(1, len(array)):\n",
    "    if(array[i]>largest):\n",
    "        largest = array[i]\n",
    "        \n",
    "print(f'The largest element of this given array is: {largest}')"
   ]
  },
  {
   "cell_type": "code",
   "execution_count": null,
   "id": "5ccb9dd3-9c7a-42ce-8985-4d10f5bdd49c",
   "metadata": {},
   "outputs": [],
   "source": [
    "3. Write a Python Program for array rotation?"
   ]
  },
  {
   "cell_type": "code",
   "execution_count": 10,
   "id": "3b82d06b-4b79-43b4-8c1c-5a59a7a697e5",
   "metadata": {},
   "outputs": [
    {
     "name": "stdout",
     "output_type": "stream",
     "text": [
      "[6, 8, 6, 21, 34, 235, 635]\n"
     ]
    }
   ],
   "source": [
    "def rotate_array(arr, k):\n",
    "\n",
    "\n",
    "    n = len(arr)\n",
    "    k %= n  \n",
    "\n",
    "    arr[:n-k] = reversed(arr[:n-k])\n",
    "\n",
    "    arr[n-k:] = reversed(arr[n-k:])\n",
    "\n",
    "    arr[:] = reversed(arr)\n",
    "\n",
    "    return arr\n",
    "arr = [21,34,235,635,6,8,6]\n",
    "k = 3\n",
    "rotated_arr = rotate_array(arr, k)\n",
    "print(rotated_arr)  "
   ]
  },
  {
   "cell_type": "code",
   "execution_count": null,
   "id": "8ebfe25e-ebbf-4660-b5f6-76de6d3ced4a",
   "metadata": {},
   "outputs": [],
   "source": [
    "4. Write a Python Program to Split the array and add the first part to the end?"
   ]
  },
  {
   "cell_type": "code",
   "execution_count": 9,
   "id": "321598e0-0b4a-4b23-835f-008a32072b54",
   "metadata": {},
   "outputs": [
    {
     "name": "stdin",
     "output_type": "stream",
     "text": [
      "The position to split the array:  3\n"
     ]
    },
    {
     "name": "stdout",
     "output_type": "stream",
     "text": [
      "After spiliting and adding the new array is:\n",
      "[245, 45, 5, 6, 121, 54, 154]\n"
     ]
    }
   ],
   "source": [
    "array = [121,54,154,245,45,5,6]\n",
    "n = int(input('The position to split the array: '))\n",
    "print(f'After spiliting and adding the new array is:')\n",
    "print(array[n:] + array[:n])"
   ]
  },
  {
   "cell_type": "code",
   "execution_count": null,
   "id": "3febbc1f-8cc0-4e41-8b28-5da26ed784ac",
   "metadata": {},
   "outputs": [],
   "source": [
    "5. Write a Python Program to check if given array is Monotonic?"
   ]
  },
  {
   "cell_type": "code",
   "execution_count": 11,
   "id": "2171c7b0-d5f8-43f1-b28f-4696bbe277c8",
   "metadata": {},
   "outputs": [
    {
     "name": "stdout",
     "output_type": "stream",
     "text": [
      "True\n",
      "True\n",
      "False\n"
     ]
    }
   ],
   "source": [
    "def is_monotonic(arr):\n",
    "\n",
    "    direction = 0\n",
    "    for i in range(len(arr) - 1):\n",
    "        if arr[i] < arr[i+1]:\n",
    "            direction = 1\n",
    "            break\n",
    "        elif arr[i] > arr[i+1]:\n",
    "            direction = -1\n",
    "            break\n",
    "\n",
    "    for i in range(len(arr) - 1):\n",
    "        if direction == 1 and arr[i] > arr[i+1]:\n",
    "            return False\n",
    "        elif direction == -1 and arr[i] < arr[i+1]:\n",
    "            return False\n",
    "\n",
    "    return True\n",
    "\n",
    "arr1 = [1, 2, 3, 4, 5]\n",
    "arr2 = [5, 4, 3, 2, 1]\n",
    "arr3 = [1, 3, 2, 4, 5]\n",
    "print(is_monotonic(arr1))  \n",
    "print(is_monotonic(arr2))  \n",
    "print(is_monotonic(arr3))  "
   ]
  },
  {
   "cell_type": "code",
   "execution_count": null,
   "id": "53b03346-c594-44be-bc19-7b3f376bf39e",
   "metadata": {},
   "outputs": [],
   "source": []
  }
 ],
 "metadata": {
  "kernelspec": {
   "display_name": "Python 3 (ipykernel)",
   "language": "python",
   "name": "python3"
  },
  "language_info": {
   "codemirror_mode": {
    "name": "ipython",
    "version": 3
   },
   "file_extension": ".py",
   "mimetype": "text/x-python",
   "name": "python",
   "nbconvert_exporter": "python",
   "pygments_lexer": "ipython3",
   "version": "3.10.6"
  }
 },
 "nbformat": 4,
 "nbformat_minor": 5
}
